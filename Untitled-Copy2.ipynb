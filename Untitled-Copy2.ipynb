{
 "cells": [
  {
   "cell_type": "code",
   "execution_count": 1,
   "metadata": {},
   "outputs": [],
   "source": [
    "from neptune import Nep\n",
    "nep = Nep()\n",
    "nep.start()"
   ]
  },
  {
   "cell_type": "code",
   "execution_count": 3,
   "metadata": {},
   "outputs": [],
   "source": [
    "nv = nep.vars\n",
    "nep.bind(\"poss\",type=\"list\")\n",
    "nep.bind(\"colors\",type=\"list\")"
   ]
  },
  {
   "cell_type": "code",
   "execution_count": 4,
   "metadata": {},
   "outputs": [
    {
     "data": {
      "text/plain": [
       "['poss', 'colors']"
      ]
     },
     "execution_count": 4,
     "metadata": {},
     "output_type": "execute_result"
    }
   ],
   "source": [
    "nep.vars_to_update"
   ]
  },
  {
   "cell_type": "code",
   "execution_count": 6,
   "metadata": {},
   "outputs": [],
   "source": [
    "nv.colors=\"\""
   ]
  },
  {
   "cell_type": "code",
   "execution_count": 18,
   "metadata": {},
   "outputs": [],
   "source": [
    "import time\n",
    "import numpy as np\n",
    "N=50\n",
    "deltaT=0.01\n",
    "Tsec = 10\n",
    "T=int(Tsec/deltaT)\n",
    "gamma=0.3\n",
    "num_types = 5\n",
    "strength=3"
   ]
  },
  {
   "cell_type": "code",
   "execution_count": 6,
   "metadata": {},
   "outputs": [],
   "source": [
    "# types = np.random.randint(N,1)\n",
    "types=np.random.randint(num_types,size=(N))\n",
    "type_to_color = np.random.rand(num_types,4)\n",
    "type_to_color*=1.7\n",
    "type_to_color[:,3]=1\n",
    "colors_str=\"|\".join([\"[\"+\";\".join([\"{0:0f}\".format(x) for x in type_to_color[t]])+\"]\" for t in types])\n",
    "nv.colors = colors_str"
   ]
  },
  {
   "cell_type": "code",
   "execution_count": 7,
   "metadata": {},
   "outputs": [],
   "source": [
    "# vels = 3*np.random.randn(N,3)"
   ]
  },
  {
   "cell_type": "code",
   "execution_count": 14,
   "metadata": {},
   "outputs": [],
   "source": [
    "poss = 0.7*np.random.randn(N,3)\n",
    "vels = 1*np.random.randn(N,3)\n",
    "poss_str=\"|\".join([\"[\"+\";\".join([\"{0:0f}\".format(x) for x in pos])+\"]\" for pos in poss])\n",
    "nv.poss = poss_str"
   ]
  },
  {
   "cell_type": "code",
   "execution_count": 10,
   "metadata": {},
   "outputs": [],
   "source": [
    "# np.linalg.norm(poss[10]-poss[15])\n",
    "# forces = np.random.randint(-1,1,size=(num_types,num_types))\n",
    "forces = np.random.randn(num_types,num_types)"
   ]
  },
  {
   "cell_type": "code",
   "execution_count": 19,
   "metadata": {},
   "outputs": [],
   "source": [
    "# def force(x,y,type1,type2):\n",
    "#     d = np.linalg.norm(x-y)\n",
    "# #     return 0\n",
    "#     attractor = 0\n",
    "# #     if np.linalg.norm(x)>5:\n",
    "# #         attractor = -0.1*x\n",
    "#     if d>0.1 and d<1:\n",
    "#         return attractor+-strength*(x-y)+forces[type1,type2]\n",
    "#     elif d<1:\n",
    "#         return attractor+strength*(x-y)/np.maximum(d,0.01)\n",
    "#     else:\n",
    "#         return attractor+0\n",
    "\n",
    "def force(x,y,f):\n",
    "    d = np.linalg.norm(x-y)\n",
    "#     return 0\n",
    "    attractor = 0\n",
    "    if np.linalg.norm(x)>2:\n",
    "        attractor = -10*x/N\n",
    "    if d>0.1 and d<1:\n",
    "        return attractor+-strength*(x-y)+f\n",
    "    elif d<1:\n",
    "        return attractor+strength*(x-y)/np.maximum(d,0.01)\n",
    "    else:\n",
    "        return attractor+0"
   ]
  },
  {
   "cell_type": "code",
   "execution_count": 64,
   "metadata": {},
   "outputs": [],
   "source": [
    "vfunc = np.vectorize(force)\n",
    "vforces = np.tile(forces[types.reshape(N,1),types.reshape(1,N)].reshape((N,N,1)),(1,1,3))\n",
    "rposs = poss.reshape(N,1,3)\n",
    "rvels = vels.reshape(N,1,3)"
   ]
  },
  {
   "cell_type": "code",
   "execution_count": 65,
   "metadata": {},
   "outputs": [
    {
     "name": "stderr",
     "output_type": "stream",
     "text": [
      "C:\\Anaconda\\lib\\site-packages\\ipykernel_launcher.py:7: RuntimeWarning: overflow encountered in multiply\n",
      "  import sys\n"
     ]
    }
   ],
   "source": [
    "for t in range(T):\n",
    "#     print(t)\n",
    "#     for i in range(N):\n",
    "#         for j in range(N):\n",
    "#             vels[i] += force(poss[i],poss[j],types[i],types[j])*deltaT - gamma*vels[i]*deltaT\n",
    "# #             print(poss_str)\n",
    "    rvels += np.sum(vfunc(rposs,rposs.transpose((1,0,2)),vforces),1,keepdims=True).reshape(N,1,3)*deltaT - gamma*rposs*rvels*deltaT\n",
    "    rposs = rposs + rvels*deltaT\n",
    "    poss_str=\"|\".join([\"[\"+\";\".join([\"{0:0f}\".format(x) for x in pos[0]])+\"]\" for pos in rposs])\n",
    "    nv.poss = poss_str\n",
    "#     time.sleep(0.01)\n"
   ]
  },
  {
   "cell_type": "code",
   "execution_count": 220,
   "metadata": {},
   "outputs": [
    {
     "data": {
      "text/plain": [
       "(50, 1, 3)"
      ]
     },
     "execution_count": 220,
     "metadata": {},
     "output_type": "execute_result"
    }
   ],
   "source": [
    "np.sum(vfunc(rposs,rposs.transpose((1,0,2)),vforces),1,keepdims=True).shape"
   ]
  },
  {
   "cell_type": "code",
   "execution_count": 63,
   "metadata": {},
   "outputs": [
    {
     "data": {
      "text/plain": [
       "(50, 50)"
      ]
     },
     "execution_count": 63,
     "metadata": {},
     "output_type": "execute_result"
    }
   ],
   "source": [
    "# rposs + vels\n",
    "forces[types.reshape(50,1),types.reshape(1,50)].shape\n",
    "vforces = np.tile(forces[types.reshape(N,1),types.reshape(1,N)].reshape((N,N,1)),(1,1,3))\n"
   ]
  }
 ],
 "metadata": {
  "kernelspec": {
   "display_name": "Python 3",
   "language": "python",
   "name": "python3"
  },
  "language_info": {
   "codemirror_mode": {
    "name": "ipython",
    "version": 3
   },
   "file_extension": ".py",
   "mimetype": "text/x-python",
   "name": "python",
   "nbconvert_exporter": "python",
   "pygments_lexer": "ipython3",
   "version": "3.7.4"
  }
 },
 "nbformat": 4,
 "nbformat_minor": 2
}
